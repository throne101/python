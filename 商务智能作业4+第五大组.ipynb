{
 "cells": [
  {
   "cell_type": "code",
   "execution_count": 1,
   "metadata": {
    "collapsed": true
   },
   "outputs": [],
   "source": [
    "import warnings\n",
    "import pandas as pd\n",
    "import seaborn as sns\n",
    "import matplotlib.pyplot as plt\n",
    "import numpy as np\n",
    "from sklearn.linear_model import LinearRegression\n",
    "from sklearn.impute import KNNImputer\n",
    "from sklearn.preprocessing import PolynomialFeatures, StandardScaler\n",
    "from sklearn.pipeline import make_pipeline\n",
    "from sklearn.model_selection import GridSearchCV\n",
    "from sklearn.linear_model import Lasso\n",
    "from sklearn.model_selection import train_test_split\n",
    "\n",
    "# 设置全局字体为 Times New Roman\n",
    "plt.rc('font',family='Times New Roman')\n",
    "warnings.filterwarnings('ignore')"
   ]
  },
  {
   "cell_type": "markdown",
   "source": [
    "# 数据导入与处理"
   ],
   "metadata": {
    "collapsed": false,
    "pycharm": {
     "name": "#%% md\n"
    }
   }
  },
  {
   "cell_type": "code",
   "execution_count": 2,
   "outputs": [
    {
     "data": {
      "text/plain": "   LOT SIZE  BEDS  SQUARE FEET  BATHS   LATITUDE   LONGITUDE  YEAR BUILT  \\\n0    6000.0   3.0         1300    2.0  37.300902 -122.017881        1960   \n1    6335.0   3.0         1400    2.0  37.295354 -122.024942        1959   \n2    6419.0   3.0         1716    2.0  37.296211 -122.023410        1972   \n3    6734.0   3.0         1357    2.0  37.298154 -122.025874        1959   \n6    6447.0   3.0         1371    2.0  37.308269 -122.019613        1957   \n\n     PRICE  SOLD_YEAR  \n0  1915000       2019  \n1  2860000       2022  \n2  1750000       2018  \n3  2000000       2020  \n6  2100000       2021  ",
      "text/html": "<div>\n<style scoped>\n    .dataframe tbody tr th:only-of-type {\n        vertical-align: middle;\n    }\n\n    .dataframe tbody tr th {\n        vertical-align: top;\n    }\n\n    .dataframe thead th {\n        text-align: right;\n    }\n</style>\n<table border=\"1\" class=\"dataframe\">\n  <thead>\n    <tr style=\"text-align: right;\">\n      <th></th>\n      <th>LOT SIZE</th>\n      <th>BEDS</th>\n      <th>SQUARE FEET</th>\n      <th>BATHS</th>\n      <th>LATITUDE</th>\n      <th>LONGITUDE</th>\n      <th>YEAR BUILT</th>\n      <th>PRICE</th>\n      <th>SOLD_YEAR</th>\n    </tr>\n  </thead>\n  <tbody>\n    <tr>\n      <th>0</th>\n      <td>6000.0</td>\n      <td>3.0</td>\n      <td>1300</td>\n      <td>2.0</td>\n      <td>37.300902</td>\n      <td>-122.017881</td>\n      <td>1960</td>\n      <td>1915000</td>\n      <td>2019</td>\n    </tr>\n    <tr>\n      <th>1</th>\n      <td>6335.0</td>\n      <td>3.0</td>\n      <td>1400</td>\n      <td>2.0</td>\n      <td>37.295354</td>\n      <td>-122.024942</td>\n      <td>1959</td>\n      <td>2860000</td>\n      <td>2022</td>\n    </tr>\n    <tr>\n      <th>2</th>\n      <td>6419.0</td>\n      <td>3.0</td>\n      <td>1716</td>\n      <td>2.0</td>\n      <td>37.296211</td>\n      <td>-122.023410</td>\n      <td>1972</td>\n      <td>1750000</td>\n      <td>2018</td>\n    </tr>\n    <tr>\n      <th>3</th>\n      <td>6734.0</td>\n      <td>3.0</td>\n      <td>1357</td>\n      <td>2.0</td>\n      <td>37.298154</td>\n      <td>-122.025874</td>\n      <td>1959</td>\n      <td>2000000</td>\n      <td>2020</td>\n    </tr>\n    <tr>\n      <th>6</th>\n      <td>6447.0</td>\n      <td>3.0</td>\n      <td>1371</td>\n      <td>2.0</td>\n      <td>37.308269</td>\n      <td>-122.019613</td>\n      <td>1957</td>\n      <td>2100000</td>\n      <td>2021</td>\n    </tr>\n  </tbody>\n</table>\n</div>"
     },
     "execution_count": 2,
     "metadata": {},
     "output_type": "execute_result"
    }
   ],
   "source": [
    "# 数据导入\n",
    "house_data = pd.read_csv(\"homework2_data/95129_2.csv\")\n",
    "# 提取出对应的列得到最终需要处理的数据\n",
    "# 房子面积 占地面积 卧室数量 卫生间数量 经纬度 建造年份 售出年份\n",
    "data_analysis = house_data[['LOT SIZE','BEDS','SQUARE FEET','BATHS','LATITUDE','LONGITUDE','YEAR BUILT','SOLD DATE','PROPERTY TYPE','PRICE']]\n",
    "# 筛选出single family类型的数据并删除类型列\n",
    "data_analysis = data_analysis[data_analysis['PROPERTY TYPE']=='Single Family Residential']\n",
    "# 处理时间并提取出售出年份\n",
    "data_analysis['SOLD DATE'] = pd.to_datetime(data_analysis['SOLD DATE'])\n",
    "data_analysis['SOLD_YEAR'] = [str(i)[:4] for i in data_analysis['SOLD DATE']]\n",
    "data_analysis = data_analysis.drop(columns = ['PROPERTY TYPE','SOLD DATE'])\n",
    "# 删除售出年份为空的列\n",
    "data_analysis = data_analysis.drop(list(data_analysis[data_analysis['SOLD_YEAR'] == 'NaT'].index))\n",
    "# 文本型转化为int\n",
    "data_analysis['SOLD_YEAR'] = [int(i) for i in data_analysis['SOLD_YEAR'].tolist()]\n",
    "# 数据处理完毕\n",
    "data_analysis.head()"
   ],
   "metadata": {
    "collapsed": false,
    "pycharm": {
     "name": "#%%\n"
    }
   }
  },
  {
   "cell_type": "markdown",
   "source": [
    "# 数据提取与训练集测试机划分"
   ],
   "metadata": {
    "collapsed": false,
    "pycharm": {
     "name": "#%% md\n"
    }
   }
  },
  {
   "cell_type": "code",
   "execution_count": 3,
   "outputs": [],
   "source": [
    "X = data_analysis[['LOT SIZE','BEDS','SQUARE FEET','BATHS','LATITUDE','LONGITUDE','YEAR BUILT','SOLD_YEAR']]\n",
    "\n",
    "y = data_analysis[['PRICE']]\n",
    "X_train, X_test, y_train, y_test = train_test_split(X, y,test_size=0.3,  random_state = 42)"
   ],
   "metadata": {
    "collapsed": false,
    "pycharm": {
     "name": "#%%\n"
    }
   }
  },
  {
   "cell_type": "code",
   "execution_count": 11,
   "outputs": [
    {
     "name": "stdout",
     "output_type": "stream",
     "text": [
      "max_leaf_nodes:16\n",
      "best_score:0.5109063272767538\n"
     ]
    },
    {
     "data": {
      "text/plain": "0.2037424208824915"
     },
     "execution_count": 11,
     "metadata": {},
     "output_type": "execute_result"
    },
    {
     "data": {
      "text/plain": "<Figure size 432x288 with 1 Axes>",
      "image/png": "[encoded data removed]"
     },
     "metadata": {
      "needs_background": "light"
     },
     "output_type": "display_data"
    }
   ],
   "source": [
    "from sklearn.tree import ExtraTreeRegressor\n",
    "model_ExtraTreeRegressor = ExtraTreeRegressor()\n",
    "from sklearn.model_selection import GridSearchCV\n",
    "#param_grid = {'ccp_alpha': np.logspace(-5, 3, 19)}\n",
    "param_grid_leaf = {'max_leaf_nodes': np.arange(3,21)}\n",
    "grid = GridSearchCV(model_ExtraTreeRegressor, param_grid_leaf, cv = 10, return_train_score = True)\n",
    "grid.fit(X_train, y_train)\n",
    "results = pd.DataFrame(grid.cv_results_)\n",
    "results.plot('param_max_leaf_nodes', 'mean_train_score')\n",
    "results.plot('param_max_leaf_nodes', 'mean_test_score', ax = plt.gca())\n",
    "print('max_leaf_nodes:' + str(grid.best_params_['max_leaf_nodes']) + '\\nbest_score:' + str(grid.best_score_))\n",
    "grid.score(X_test, y_test)"
   ],
   "metadata": {
    "collapsed": false,
    "pycharm": {
     "name": "#%%\n"
    }
   }
  },
  {
   "cell_type": "code",
   "execution_count": 8,
   "outputs": [
    {
     "data": {
      "text/plain": "<Figure size 432x288 with 1 Axes>",
      "image/png": "[encoded data removed]"
     },
     "metadata": {
      "needs_background": "light"
     },
     "output_type": "display_data"
    }
   ],
   "source": [
    "from learning_curves import LearningCurve\n",
    "pipe_gradient = make_pipeline(MinMaxScaler(), GradientBoostingRegressor(random_state=0,learning_rate=grid_gradient.best_params_['gradientboostingregressor__learning_rate'],n_estimators=grid_gradient.best_params_['gradientboostingregressor__n_estimators']))\n",
    "lc = LearningCurve()\n",
    "lc.get_lc(pipe_gradient, X, y)"
   ],
   "metadata": {
    "collapsed": false,
    "pycharm": {
     "name": "#%%\n"
    }
   }
  },
  {
   "cell_type": "code",
   "execution_count": null,
   "outputs": [],
   "source": [],
   "metadata": {
    "collapsed": false,
    "pycharm": {
     "name": "#%%\n"
    }
   }
  },
  {
   "cell_type": "code",
   "execution_count": null,
   "outputs": [],
   "source": [],
   "metadata": {
    "collapsed": false,
    "pycharm": {
     "name": "#%%\n"
    }
   }
  },
  {
   "cell_type": "code",
   "execution_count": null,
   "outputs": [],
   "source": [],
   "metadata": {
    "collapsed": false,
    "pycharm": {
     "name": "#%%\n"
    }
   }
  },
  {
   "cell_type": "code",
   "execution_count": null,
   "outputs": [],
   "source": [
    "X_test = [[6129,3,1252,2,37.3007145,-122.0113965,1960,2022]]\n",
    "X_test2 = [[6000,4,1405,2,37.2990953,-122.0102861,1960,2022]]"
   ],
   "metadata": {
    "collapsed": false,
    "pycharm": {
     "name": "#%%\n"
    }
   }
  }
 ],
 "metadata": {
  "kernelspec": {
   "display_name": "Python 3",
   "language": "python",
   "name": "python3"
  },
  "language_info": {
   "codemirror_mode": {
    "name": "ipython",
    "version": 2
   },
   "file_extension": ".py",
   "mimetype": "text/x-python",
   "name": "python",
   "nbconvert_exporter": "python",
   "pygments_lexer": "ipython2",
   "version": "2.7.6"
  }
 },
 "nbformat": 4,
 "nbformat_minor": 0
}